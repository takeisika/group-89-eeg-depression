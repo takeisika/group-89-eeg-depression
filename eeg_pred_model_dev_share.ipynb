{
  "nbformat": 4,
  "nbformat_minor": 0,
  "metadata": {
    "colab": {
      "provenance": [],
      "authorship_tag": "ABX9TyPLe71ZINjU8AnR1XJWa1Kj",
      "include_colab_link": true
    },
    "kernelspec": {
      "name": "python3",
      "display_name": "Python 3"
    },
    "language_info": {
      "name": "python"
    }
  },
  "cells": [
    {
      "cell_type": "markdown",
      "metadata": {
        "id": "view-in-github",
        "colab_type": "text"
      },
      "source": [
        "<a href=\"https://colab.research.google.com/github/takeisika/group-89-eeg-depression/blob/main/eeg_pred_model_dev_share.ipynb\" target=\"_parent\"><img src=\"https://colab.research.google.com/assets/colab-badge.svg\" alt=\"Open In Colab\"/></a>"
      ]
    },
    {
      "cell_type": "code",
      "execution_count": 1,
      "metadata": {
        "colab": {
          "base_uri": "https://localhost:8080/"
        },
        "id": "464SROaR_HmJ",
        "outputId": "9b82b01a-b6d6-4584-d28f-509d34c9c623"
      },
      "outputs": [
        {
          "output_type": "stream",
          "name": "stdout",
          "text": [
            "Mounted at /content/drive\n"
          ]
        }
      ],
      "source": [
        "from google.colab import drive\n",
        "drive.mount('/content/drive')"
      ]
    },
    {
      "cell_type": "code",
      "source": [
        "!unzip /content/drive/MyDrive/EEG_128channels_resting_lanzhou_2015.zip -d /content/data"
      ],
      "metadata": {
        "id": "0-LrdJbU_Ps4",
        "colab": {
          "base_uri": "https://localhost:8080/"
        },
        "outputId": "57d0dbc4-5ec7-4348-a332-6c604d6e8b68"
      },
      "execution_count": null,
      "outputs": [
        {
          "output_type": "stream",
          "name": "stdout",
          "text": [
            "Archive:  /content/drive/MyDrive/EEG_128channels_resting_lanzhou_2015.zip\n",
            "   creating: /content/data/EEG_128channels_resting_lanzhou_2015/\n",
            "  inflating: /content/data/EEG_128channels_resting_lanzhou_2015/02010013rest 20150703 1333..mat  \n",
            "  inflating: /content/data/EEG_128channels_resting_lanzhou_2015/02010012rest 20150626 1026..mat  \n",
            "  inflating: /content/data/EEG_128channels_resting_lanzhou_2015/02020022rest 20150707 1452..mat  \n",
            "  inflating: /content/data/EEG_128channels_resting_lanzhou_2015/Multivariate Pattern Analysis of EEG-Based Functional Connectivity A Study on the Identification of Depression.pdf  \n",
            "  inflating: /content/data/EEG_128channels_resting_lanzhou_2015/02010019rest 20150716 1440..mat  \n",
            "  inflating: /content/data/EEG_128channels_resting_lanzhou_2015/02030020_rest 20151230 1416.mat  \n",
            "  inflating: /content/data/EEG_128channels_resting_lanzhou_2015/02010005rest 20150507 0907..mat  \n",
            "  inflating: /content/data/EEG_128channels_resting_lanzhou_2015/02010022restnew 20150724 14.mat  \n",
            "  inflating: /content/data/EEG_128channels_resting_lanzhou_2015/02010033rest 20160331 1239..mat  \n",
            "  inflating: /content/data/EEG_128channels_resting_lanzhou_2015/02010015rest 20150709 1456..mat  \n",
            "  inflating: /content/data/EEG_128channels_resting_lanzhou_2015/02020029rest 20150715 1316..mat  \n",
            "  inflating: /content/data/EEG_128channels_resting_lanzhou_2015/02020026_rest 20150714 1413.mat  \n",
            "  inflating: /content/data/EEG_128channels_resting_lanzhou_2015/02010026rest 20160311 1421..mat  \n",
            "  inflating: /content/data/EEG_128channels_resting_lanzhou_2015/02010006rest 20150528 0928..mat  \n",
            "  inflating: /content/data/EEG_128channels_resting_lanzhou_2015/02030014rest 20151117 1441..mat  \n",
            "  inflating: /content/data/EEG_128channels_resting_lanzhou_2015/02030021rest 20160105 1141..mat  \n",
            "  inflating: /content/data/EEG_128channels_resting_lanzhou_2015/02030004_rest 20151026 1930.mat  \n",
            "  inflating: /content/data/EEG_128channels_resting_lanzhou_2015/02010036_rest 20160408 1418.mat  \n",
            "  inflating: /content/data/EEG_128channels_resting_lanzhou_2015/02020023restnew 20150709 10.mat  \n",
            "  inflating: /content/data/EEG_128channels_resting_lanzhou_2015/02010025 20160311 1206.mat.mat  \n",
            "  inflating: /content/data/EEG_128channels_resting_lanzhou_2015/02020018rest 20150702 1651..mat  \n",
            "  inflating: /content/data/EEG_128channels_resting_lanzhou_2015/02020027rest 20150713 1049..mat  "
          ]
        }
      ]
    },
    {
      "cell_type": "markdown",
      "source": [
        "# ① Get all .mat files"
      ],
      "metadata": {
        "id": "vZaXf9OLJeiK"
      }
    },
    {
      "cell_type": "code",
      "source": [
        "import os\n",
        "import glob\n",
        "FOLDER = \"/content/data\"\n",
        "mat_files = glob.glob(os.path.join(FOLDER, \"**/*.mat\"), recursive=True)\n",
        "print(f\"Found {len(mat_files)} .mat files.\")"
      ],
      "metadata": {
        "id": "biM6MrYiJgwn",
        "colab": {
          "base_uri": "https://localhost:8080/"
        },
        "outputId": "04269882-8060-4655-adc7-325610b11ac5"
      },
      "execution_count": 4,
      "outputs": [
        {
          "output_type": "stream",
          "name": "stdout",
          "text": [
            "Found 53 .mat files.\n"
          ]
        }
      ]
    },
    {
      "cell_type": "markdown",
      "source": [
        "# ② Get subj_id & its label"
      ],
      "metadata": {
        "id": "J7C4r2DVVk_G"
      }
    },
    {
      "cell_type": "code",
      "source": [
        "import os\n",
        "import re\n",
        "def get_subj_id_and_label(path):\n",
        "    filename = os.path.basename(path)\n",
        "    match = re.search(r\"(02\\d+)\", filename)  # 02010002_... or 02020008_... or 02030002_...\n",
        "    subj_id = match.group(1)\n",
        "    label = 1 if subj_id.startswith(\"0201\") else 0  # 0201...→depressed (1), others→not depressed(0)\n",
        "    return subj_id, label"
      ],
      "metadata": {
        "id": "5ZF1-5V4JjuO"
      },
      "execution_count": 6,
      "outputs": []
    }
  ]
}