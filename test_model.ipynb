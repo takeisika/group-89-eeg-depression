{
  "nbformat": 4,
  "nbformat_minor": 0,
  "metadata": {
    "colab": {
      "provenance": [],
      "authorship_tag": "ABX9TyN3/u4JyA8P9cF7SNATi2J5",
      "include_colab_link": true
    },
    "kernelspec": {
      "name": "python3",
      "display_name": "Python 3"
    },
    "language_info": {
      "name": "python"
    }
  },
  "cells": [
    {
      "cell_type": "markdown",
      "metadata": {
        "id": "view-in-github",
        "colab_type": "text"
      },
      "source": [
        "<a href=\"https://colab.research.google.com/github/takeisika/group-89-eeg-depression/blob/main/test_model.ipynb\" target=\"_parent\"><img src=\"https://colab.research.google.com/assets/colab-badge.svg\" alt=\"Open In Colab\"/></a>"
      ]
    },
    {
      "cell_type": "code",
      "execution_count": 2,
      "metadata": {
        "colab": {
          "base_uri": "https://localhost:8080/"
        },
        "id": "2K0Y8hPsbJFq",
        "outputId": "2af12568-e8ce-4743-926d-49d35586e0d5"
      },
      "outputs": [
        {
          "output_type": "stream",
          "name": "stdout",
          "text": [
            "Prediction: 1\n",
            "Probability: [2.01214356e-09 9.99999998e-01]\n"
          ]
        }
      ],
      "source": [
        "\"\"\"\n",
        "1. Upload 'eeg_depression_model.pkl'\n",
        "2. Run this code\n",
        "3. Output: Prediction (0 or 1) and probability scores\n",
        "\"\"\"\n",
        "\n",
        "import joblib\n",
        "import numpy as np\n",
        "\n",
        "model = joblib.load('eeg_depression_model.pkl')\n",
        "dummy_features = np.random.randn(1, 640) # Model expects 2D input (1 sample, 640 features)\n",
        "prediction = model.predict(dummy_features)\n",
        "probability = model.predict_proba(dummy_features)\n",
        "print(f\"Prediction: {prediction[0]}\")  # 0 or 1\n",
        "print(f\"Probability: {probability[0]}\")  # [not_depressed, depressed]"
      ]
    }
  ]
}